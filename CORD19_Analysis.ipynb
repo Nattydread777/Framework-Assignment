# CORD-19 Data Analysis Assignment
**Objective:** Explore and analyze COVID-19 research papers from the CORD-19 dataset, visualize trends, and optionally create a simple Streamlit app.

**Dataset:** `metadata.csv` (metadata of COVID-19 research papers)

**Libraries used:** pandas, matplotlib, seaborn, wordcloud, Streamlit

# Data manipulation
import pandas as pd
import numpy as np

# Visualization
import matplotlib.pyplot as plt
import seaborn as sns
from wordcloud import WordCloud

# Streamlit (optional, for later)
import streamlit as st

# Display plots inline in Jupyter
%matplotlib inline

# Set Seaborn style
sns.set(style='whitegrid')


# Load metadata.csv
try:
    df = pd.read_csv('metadata.csv')
    print("Dataset loaded successfully!")
except FileNotFoundError:
    print("Error: 'metadata.csv' not found. Make sure it is in your project folder.")
except Exception as e:
    print(f"An error occurred: {e}")

# Display first 5 rows
df.head()
# Check dataset dimensions
print("Rows:", df.shape[0], "| Columns:", df.shape[1])


# Info about columns and data types
df.info()

# Check for missing values
df.isnull().sum()

# Descriptive statistics for numeric columns
df.describe()

# Convert 'publish_time' to datetime
df['publish_time'] = pd.to_datetime(df['publish_time'], errors='coerce')

# Extract publication year
df['year'] = df['publish_time'].dt.year

# Optional: create word count column for abstracts
df['abstract_word_count'] = df['abstract'].fillna("").apply(lambda x: len(x.split()))

# Drop rows with missing titles (important column)
df = df.dropna(subset=['title'])

print("Data cleaning complete.")
df.head()

# Count number of publications per year
year_counts = df['year'].value_counts().sort_index()

# Display top years
year_counts

plt.figure(figsize=(10,5))
sns.lineplot(x=year_counts.index, y=year_counts.values, marker='o')
plt.title('Publications by Year')
plt.xlabel('Year')
plt.ylabel('Number of Papers')
plt.show()

# Top 10 journals by number of papers
top_journals = df['journal'].value_counts().head(10)
top_journals

plt.figure(figsize=(10,5))
sns.barplot(x=top_journals.values, y=top_journals.index, palette='viridis')
plt.title('Top 10 Journals Publishing COVID-19 Papers')
plt.xlabel('Number of Papers')
plt.ylabel('Journal')
plt.show()

# Combine all titles into one string
all_titles = " ".join(df['title'].astype(str))

# Generate word cloud
wordcloud = WordCloud(width=800, height=400, background_color='white').generate(all_titles)

# Display word cloud
plt.figure(figsize=(15,7))
plt.imshow(wordcloud, interpolation='bilinear')
plt.axis('off')
plt.title("Most Frequent Words in Paper Titles")
plt.show()


